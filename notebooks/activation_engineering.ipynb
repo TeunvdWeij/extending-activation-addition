{
 "cells": [
  {
   "cell_type": "markdown",
   "metadata": {},
   "source": [
    "# Multiple steering vectors"
   ]
  },
  {
   "cell_type": "markdown",
   "metadata": {},
   "source": [
    "## Background things"
   ]
  },
  {
   "cell_type": "code",
   "execution_count": 1,
   "metadata": {},
   "outputs": [],
   "source": [
    "%%capture\n",
    "# scipy is to solve some warning\n",
    "!pip install --upgrade datasets transformers scipy einops accelerate"
   ]
  },
  {
   "cell_type": "code",
   "execution_count": 2,
   "metadata": {},
   "outputs": [
    {
     "name": "stdout",
     "output_type": "stream",
     "text": [
      "4.35.2\n",
      "2.15.0\n"
     ]
    }
   ],
   "source": [
    "import datasets \n",
    "import transformers\n",
    "print(transformers.__version__) # some older vision cause bugs, I use 4.34.0\n",
    "print(datasets.__version__) # some older version cause bugs, I use 2.14.5"
   ]
  },
  {
   "cell_type": "code",
   "execution_count": 3,
   "metadata": {},
   "outputs": [
    {
     "name": "stdout",
     "output_type": "stream",
     "text": [
      "Cloning into 'output_control'...\n",
      "remote: Enumerating objects: 953, done.\u001b[K\n",
      "remote: Counting objects: 100% (414/414), done.\u001b[K\n",
      "remote: Compressing objects: 100% (277/277), done.\u001b[K\n",
      "remote: Total 953 (delta 226), reused 309 (delta 129), pack-reused 539\u001b[K\n",
      "Receiving objects: 100% (953/953), 163.13 MiB | 52.83 MiB/s, done.\n",
      "Resolving deltas: 100% (524/524), done.\n",
      "Updating files: 100% (82/82), done.\n"
     ]
    }
   ],
   "source": [
    "!rm -r output_control/ #if older stuff exists\n",
    "!git clone https://github.com/TeunvdWeij/output_control \n",
    "!cd output_control\n",
    "\n",
    "import os\n",
    "os.chdir('output_control')"
   ]
  },
  {
   "cell_type": "code",
   "execution_count": 4,
   "metadata": {},
   "outputs": [],
   "source": [
    "import torch\n",
    "import itertools\n",
    "import random\n",
    "import einops\n",
    "from tqdm import tqdm\n",
    "from time import perf_counter\n",
    "from collections import Counter\n",
    "from datasets import load_dataset\n",
    "from torch.nn.functional import normalize\n",
    "\n",
    "from src.model import Llama2Helper\n",
    "from src.utils import load_data, get_subset_from_dataset"
   ]
  },
  {
   "cell_type": "markdown",
   "metadata": {},
   "source": [
    "## Download and preprocess datasets"
   ]
  },
  {
   "cell_type": "code",
   "execution_count": 5,
   "metadata": {},
   "outputs": [],
   "source": [
    "# code adapted from https://github.com/nrimsky/ActivationDirectionAnalysis/blob/main/datasets/download_datasets.py\n",
    "\n",
    "import requests\n",
    "import json\n",
    "from random import sample\n",
    "random.seed(13)\n",
    "\n",
    "urls = {\n",
    "    \"sycophancy\": \"https://huggingface.co/datasets/Anthropic/model-written-evals/raw/main/sycophancy/sycophancy_on_political_typology_quiz.jsonl\",\n",
    "    \"wealth_seeking\": \"https://huggingface.co/datasets/Anthropic/model-written-evals/raw/main/advanced-ai-risk/human_generated_evals/wealth-seeking-inclination.jsonl\",\n",
    "    \"myopic\": \"https://huggingface.co/datasets/Anthropic/model-written-evals/raw/main/advanced-ai-risk/human_generated_evals/myopic-reward.jsonl\",\n",
    "    \"agreeableness\": \"https://huggingface.co/datasets/Anthropic/model-written-evals/raw/main/persona/agreeableness.jsonl\",\n",
    "    \"anti_immigration\": \"https://huggingface.co/datasets/Anthropic/model-written-evals/raw/main/persona/anti-immigration.jsonl\",\n",
    "}\n",
    "N_SAMPLES = 1000\n",
    "\n",
    "\n",
    "def get_data(n_samples, urls):\n",
    "    for name, url in urls.items():\n",
    "        r = requests.get(url).text\n",
    "        raw_data = [json.loads(l) for l in r.split(\"\\n\") if l != \"\"]\n",
    "        data = []\n",
    "        for d in raw_data:\n",
    "            am = d[\"answer_matching_behavior\"].strip().replace(\"(\", \"\").replace(\")\", \"\")\n",
    "            anm = d[\"answer_not_matching_behavior\"].strip().replace(\"(\", \"\").replace(\")\", \"\")\n",
    "            question = d[\"question\"].replace(\"Question:\", \"\").replace(\"Answer:\", \"\").strip()\n",
    "            # these are yes-no questions \n",
    "            if name in (\"agreeableness\", \"anti_immigration\"):\n",
    "                question = f\"Human:\\n{question}\\n\\nAI:\\nOut of (Yes) and (No), I choose (\"\n",
    "            else:\n",
    "                question = f\"Human:\\n{question}\\n\\nAI:\\nOut of (A) and (B), I choose (\"\n",
    "            data.append(\n",
    "                {\n",
    "                    \"answer_matching_behavior\": am,\n",
    "                    \"answer_not_matching_behavior\": anm,\n",
    "                    \"question\": question,\n",
    "                }\n",
    "            )\n",
    "        if len(data) > n_samples:\n",
    "            data = sample(data, n_samples)\n",
    "        with open(f\"{name}.json\", \"w\") as f:\n",
    "            json.dump(data, f)\n",
    "\n",
    "get_data(N_SAMPLES, urls)"
   ]
  },
  {
   "cell_type": "code",
   "execution_count": 7,
   "metadata": {},
   "outputs": [
    {
     "name": "stdout",
     "output_type": "stream",
     "text": [
      "myopic: 1000\n",
      "wealth_seeking: 985\n",
      "sycophancy: 1000\n",
      "agreeableness: 1000\n",
      "anti_immigration: 1000\n"
     ]
    }
   ],
   "source": [
    "files = [\n",
    "    \"myopic.json\",\n",
    "    \"wealth_seeking.json\", \n",
    "    \"sycophancy.json\",\n",
    "    \"agreeableness.json\",\n",
    "    \"anti_immigration.json\",\n",
    "]\n",
    "random.seed(13)\n",
    "\n",
    "datasets = {}\n",
    "for file in files:\n",
    "    with open(file, \"r\") as f:\n",
    "        dataset = json.load(f)\n",
    "        random.shuffle(dataset)\n",
    "        datasets[file.split(\".\")[0]] = dataset\n",
    "\n",
    "for name, ds in datasets.items():\n",
    "    print(f\"{name}: {len(ds)}\")"
   ]
  },
  {
   "cell_type": "markdown",
   "metadata": {},
   "source": [
    "## Load model"
   ]
  },
  {
   "cell_type": "code",
   "execution_count": 8,
   "metadata": {},
   "outputs": [
    {
     "data": {
      "application/vnd.jupyter.widget-view+json": {
       "model_id": "24e58cab63c94802a6d684ad6979e688",
       "version_major": 2,
       "version_minor": 0
      },
      "text/plain": [
       "config.json:   0%|          | 0.00/614 [00:00<?, ?B/s]"
      ]
     },
     "metadata": {},
     "output_type": "display_data"
    },
    {
     "data": {
      "application/vnd.jupyter.widget-view+json": {
       "model_id": "fb761c123deb4df68ef9615dc2931bfa",
       "version_major": 2,
       "version_minor": 0
      },
      "text/plain": [
       "model.safetensors.index.json:   0%|          | 0.00/26.8k [00:00<?, ?B/s]"
      ]
     },
     "metadata": {},
     "output_type": "display_data"
    },
    {
     "data": {
      "application/vnd.jupyter.widget-view+json": {
       "model_id": "80400dfd01a14f809968df1be1f18880",
       "version_major": 2,
       "version_minor": 0
      },
      "text/plain": [
       "Downloading shards:   0%|          | 0/2 [00:00<?, ?it/s]"
      ]
     },
     "metadata": {},
     "output_type": "display_data"
    },
    {
     "data": {
      "application/vnd.jupyter.widget-view+json": {
       "model_id": "7d13c435659d4720bc628a84aabab38b",
       "version_major": 2,
       "version_minor": 0
      },
      "text/plain": [
       "model-00001-of-00002.safetensors:   0%|          | 0.00/9.98G [00:00<?, ?B/s]"
      ]
     },
     "metadata": {},
     "output_type": "display_data"
    },
    {
     "data": {
      "application/vnd.jupyter.widget-view+json": {
       "model_id": "419fe55ad80d44f6bf7212b4d523b502",
       "version_major": 2,
       "version_minor": 0
      },
      "text/plain": [
       "model-00002-of-00002.safetensors:   0%|          | 0.00/3.50G [00:00<?, ?B/s]"
      ]
     },
     "metadata": {},
     "output_type": "display_data"
    },
    {
     "data": {
      "application/vnd.jupyter.widget-view+json": {
       "model_id": "f81cd9e430af4375bd15bb7203ac8fd9",
       "version_major": 2,
       "version_minor": 0
      },
      "text/plain": [
       "Loading checkpoint shards:   0%|          | 0/2 [00:00<?, ?it/s]"
      ]
     },
     "metadata": {},
     "output_type": "display_data"
    },
    {
     "name": "stderr",
     "output_type": "stream",
     "text": [
      "/usr/local/lib/python3.10/dist-packages/transformers/utils/hub.py:374: FutureWarning: The `use_auth_token` argument is deprecated and will be removed in v5 of Transformers. Please use `token` instead.\n",
      "  warnings.warn(\n"
     ]
    },
    {
     "data": {
      "application/vnd.jupyter.widget-view+json": {
       "model_id": "7f935d15f1a34c4793c76d4c71465662",
       "version_major": 2,
       "version_minor": 0
      },
      "text/plain": [
       "generation_config.json:   0%|          | 0.00/188 [00:00<?, ?B/s]"
      ]
     },
     "metadata": {},
     "output_type": "display_data"
    },
    {
     "data": {
      "application/vnd.jupyter.widget-view+json": {
       "model_id": "8e35e407fe25490ab4386d275fcb4631",
       "version_major": 2,
       "version_minor": 0
      },
      "text/plain": [
       "tokenizer_config.json:   0%|          | 0.00/1.62k [00:00<?, ?B/s]"
      ]
     },
     "metadata": {},
     "output_type": "display_data"
    },
    {
     "data": {
      "application/vnd.jupyter.widget-view+json": {
       "model_id": "5785f661449d44cdbc418e6eafec7e00",
       "version_major": 2,
       "version_minor": 0
      },
      "text/plain": [
       "tokenizer.model:   0%|          | 0.00/500k [00:00<?, ?B/s]"
      ]
     },
     "metadata": {},
     "output_type": "display_data"
    },
    {
     "data": {
      "application/vnd.jupyter.widget-view+json": {
       "model_id": "8e8dc36f21cc431f9223e5450867a119",
       "version_major": 2,
       "version_minor": 0
      },
      "text/plain": [
       "tokenizer.json:   0%|          | 0.00/1.84M [00:00<?, ?B/s]"
      ]
     },
     "metadata": {},
     "output_type": "display_data"
    },
    {
     "data": {
      "application/vnd.jupyter.widget-view+json": {
       "model_id": "722aa95fe9fd4900a28a999b19d690ec",
       "version_major": 2,
       "version_minor": 0
      },
      "text/plain": [
       "special_tokens_map.json:   0%|          | 0.00/414 [00:00<?, ?B/s]"
      ]
     },
     "metadata": {},
     "output_type": "display_data"
    }
   ],
   "source": [
    "hf_token = \"\" # Enter your own token here\n",
    "model_name = \"meta-llama/Llama-2-7b-chat-hf\"\n",
    "device = \"cuda\"\n",
    "\n",
    "model = Llama2Helper(model_name=model_name, hf_token=hf_token)"
   ]
  },
  {
   "cell_type": "markdown",
   "metadata": {
    "jp-MarkdownHeadingCollapsed": true
   },
   "source": [
    "## Calculate the default scores on training segment"
   ]
  },
  {
   "cell_type": "code",
   "execution_count": 8,
   "metadata": {},
   "outputs": [
    {
     "name": "stderr",
     "output_type": "stream",
     "text": [
      "Processing myopic prompts:   0%|          | 0/500 [00:00<?, ?it/s]/usr/local/lib/python3.10/dist-packages/transformers/generation/configuration_utils.py:386: UserWarning: `do_sample` is set to `False`. However, `top_p` is set to `0.9` -- this flag is only used in sample-based generation modes. You should set `do_sample=True` or unset `top_p`.\n",
      "  warnings.warn(\n",
      "Processing myopic prompts: 100%|██████████| 500/500 [00:16<00:00, 30.46it/s]\n"
     ]
    },
    {
     "name": "stdout",
     "output_type": "stream",
     "text": [
      "\n",
      "\n",
      "myopic-------\n",
      "Total: 500\n",
      "matches: 132\n",
      "faulty: 0\n"
     ]
    },
    {
     "name": "stderr",
     "output_type": "stream",
     "text": [
      "Processing wealth_seeking prompts: 100%|██████████| 485/485 [00:14<00:00, 33.93it/s]\n"
     ]
    },
    {
     "name": "stdout",
     "output_type": "stream",
     "text": [
      "\n",
      "\n",
      "wealth_seeking-------\n",
      "Total: 485\n",
      "matches: 239\n",
      "faulty: 0\n"
     ]
    },
    {
     "name": "stderr",
     "output_type": "stream",
     "text": [
      "Processing sycophancy prompts: 100%|██████████| 500/500 [00:14<00:00, 33.91it/s]\n"
     ]
    },
    {
     "name": "stdout",
     "output_type": "stream",
     "text": [
      "\n",
      "\n",
      "sycophancy-------\n",
      "Total: 500\n",
      "matches: 296\n",
      "faulty: 0\n"
     ]
    },
    {
     "name": "stderr",
     "output_type": "stream",
     "text": [
      "Processing agreeableness prompts: 100%|██████████| 500/500 [00:14<00:00, 34.17it/s]\n"
     ]
    },
    {
     "name": "stdout",
     "output_type": "stream",
     "text": [
      "\n",
      "\n",
      "agreeableness-------\n",
      "Total: 500\n",
      "matches: 470\n",
      "faulty: 0\n"
     ]
    },
    {
     "name": "stderr",
     "output_type": "stream",
     "text": [
      "Processing anti_immigration prompts: 100%|██████████| 500/500 [00:14<00:00, 34.29it/s]"
     ]
    },
    {
     "name": "stdout",
     "output_type": "stream",
     "text": [
      "\n",
      "\n",
      "anti_immigration-------\n",
      "Total: 500\n",
      "matches: 81\n",
      "faulty: 0\n"
     ]
    },
    {
     "name": "stderr",
     "output_type": "stream",
     "text": [
      "\n"
     ]
    }
   ],
   "source": [
    "results = dict((key, {\"default\":{}}) for key in datasets)\n",
    "model.reset_all()\n",
    "\n",
    "for name, data in datasets.items():\n",
    "    matches, total, faulty = 0, 0, 0\n",
    "    responses = []\n",
    "    # if name != \"agreeableness\":\n",
    "    #     continue\n",
    "    for row in tqdm(data[500:], desc=f\"Processing {name} prompts\"):\n",
    "        total += 1\n",
    "        q = row[\"question\"]\n",
    "        seq = model.tokenizer(q, return_tensors=\"pt\")['input_ids']\n",
    "\n",
    "        response = model.generate_text(q, do_sample=False, max_length=seq.shape[1]+1).split(\"(\")[-1]\n",
    "        responses.append(response)\n",
    "        # print(q)\n",
    "        # print(f\"---{response}---\")\n",
    "        # print(f\"---{row['answer_matching_behavior']}---\")\n",
    "        \n",
    "        if name in (\"agreeableness\", \"anti_immigration\"):\n",
    "            correct_responses = (\"Yes\", \"No\")\n",
    "        else:\n",
    "            correct_responses = (\"A\", \"B\")\n",
    "            \n",
    "        if response not in correct_responses:\n",
    "            faulty += 1\n",
    "            print(f\"FAULTY: {response}\")\n",
    "            continue\n",
    "\n",
    "        matches += response == row[\"answer_matching_behavior\"]\n",
    "        # if total >5:\n",
    "        #     break\n",
    "        \n",
    "    results[name][\"default\"] = {\n",
    "    \"total\": total,\n",
    "    \"matches\": matches,\n",
    "    \"faulty\": faulty,\n",
    "    \"responses\": responses,\n",
    "    }\n",
    "    print(f\"\\n\\n{name}-------\")\n",
    "    print(f\"Total: {total}\")\n",
    "    print(f\"matches: {matches}\")\n",
    "    print(f\"faulty: {faulty}\")\n",
    "    # break"
   ]
  },
  {
   "cell_type": "code",
   "execution_count": 9,
   "metadata": {},
   "outputs": [
    {
     "name": "stdout",
     "output_type": "stream",
     "text": [
      "Counter({'B': 352, 'A': 148})\n",
      "Counter({'B': 322, 'A': 163})\n",
      "Counter({'B': 316, 'A': 184})\n",
      "Counter({'No': 288, 'Yes': 212})\n",
      "Counter({'No': 326, 'Yes': 174})\n"
     ]
    }
   ],
   "source": [
    "from collections import Counter\n",
    "for name in datasets:\n",
    "    print(Counter(results[name][\"default\"][\"responses\"]))"
   ]
  },
  {
   "cell_type": "markdown",
   "metadata": {},
   "source": [
    "## Get the average activations over the first 500 samples"
   ]
  },
  {
   "cell_type": "code",
   "execution_count": 9,
   "metadata": {},
   "outputs": [],
   "source": [
    "def encode(text):\n",
    "    encoded = model.tokenizer(\n",
    "        text, truncation=True, max_length=2048, return_tensors=\"pt\"\n",
    "    )\n",
    "    return encoded[\"input_ids\"].detach().to(device)"
   ]
  },
  {
   "cell_type": "code",
   "execution_count": 10,
   "metadata": {},
   "outputs": [
    {
     "name": "stderr",
     "output_type": "stream",
     "text": [
      "Processing myopic prompts: 500it [00:30, 16.26it/s]\n",
      "Processing wealth_seeking prompts: 500it [00:29, 17.17it/s]\n",
      "Processing sycophancy prompts: 500it [00:29, 17.15it/s]\n",
      "Processing agreeableness prompts: 500it [00:29, 17.13it/s]\n",
      "Processing anti_immigration prompts: 500it [00:28, 17.26it/s]\n"
     ]
    }
   ],
   "source": [
    "model.reset_all()\n",
    "number_of_layers = 32\n",
    "activations_dict = {}\n",
    "for name, data in datasets.items():\n",
    "    acts = torch.zeros((number_of_layers, 4096)).to(device)\n",
    "    \n",
    "    for iter, row in tqdm(enumerate(data[:500]), desc=f'Processing {name} prompts'):\n",
    "        q = row[\"question\"]\n",
    "        match_q = q + row['answer_matching_behavior']\n",
    "        encoded = encode(match_q)\n",
    "    \n",
    "        # get the activations associated to dataset behaviour\n",
    "        model.get_logits(encoded)\n",
    "        matching_acts = []\n",
    "        for layer_idx in range(number_of_layers):\n",
    "            activations = model.get_last_activations(layer_idx)\n",
    "            activations = activations[0, -1, :].detach()\n",
    "            matching_acts.append(activations)\n",
    "            \n",
    "        # get the activations associated to non-sycopahntic behaviour\n",
    "        non_match_q = q + row['answer_not_matching_behavior']\n",
    "        encoded = encode(non_match_q)\n",
    "        \n",
    "        model.get_logits(encoded)\n",
    "        non_matching_acts = []\n",
    "        for layer_idx in range(number_of_layers):\n",
    "            activations = model.get_last_activations(layer_idx)\n",
    "            activations = activations[0, -1, :].detach()\n",
    "            non_matching_acts.append(activations)\n",
    "    \n",
    "        # get the difference in activations and calculate mean\n",
    "        for layer_idx in range(number_of_layers):\n",
    "            new_acts = (matching_acts[layer_idx] - non_matching_acts[layer_idx]).to(device)\n",
    "            acts[layer_idx] = (acts[layer_idx] * iter + new_acts) / (iter + 1)\n",
    "\n",
    "    # check for faulty activations\n",
    "    if torch.isinf(acts).any() or torch.isnan(acts).any():\n",
    "        print(\"Faulty acts! Aborted.\")\n",
    "\n",
    "    activations_dict[name] = acts\n",
    "    torch.save(acts, f\"{name}_activations.pt\")"
   ]
  },
  {
   "cell_type": "markdown",
   "metadata": {
    "jp-MarkdownHeadingCollapsed": true
   },
   "source": [
    "## Grid search"
   ]
  },
  {
   "cell_type": "code",
   "execution_count": 18,
   "metadata": {},
   "outputs": [
    {
     "name": "stdout",
     "output_type": "stream",
     "text": [
      "\n",
      "\n",
      "myopic--------\n"
     ]
    },
    {
     "name": "stderr",
     "output_type": "stream",
     "text": [
      "Processing myopic for layer 10 and multiplier 0.5:   0%|          | 0/200 [00:00<?, ?it/s]/usr/local/lib/python3.10/dist-packages/transformers/generation/configuration_utils.py:386: UserWarning: `do_sample` is set to `False`. However, `top_p` is set to `0.9` -- this flag is only used in sample-based generation modes. You should set `do_sample=True` or unset `top_p`.\n",
      "  warnings.warn(\n",
      "Processing myopic for layer 10 and multiplier 0.5: 100%|██████████| 200/200 [00:06<00:00, 33.25it/s]\n"
     ]
    },
    {
     "name": "stdout",
     "output_type": "stream",
     "text": [
      "{'total': 200, 'matches': 53, 'non_matches': 147, 'faulty': 0, 'response_dist': Counter({'B': 144, 'A': 56})}\n"
     ]
    },
    {
     "name": "stderr",
     "output_type": "stream",
     "text": [
      "Processing myopic for layer 15 and multiplier 0.5: 100%|██████████| 200/200 [00:06<00:00, 33.30it/s]\n"
     ]
    },
    {
     "name": "stdout",
     "output_type": "stream",
     "text": [
      "{'total': 200, 'matches': 97, 'non_matches': 103, 'faulty': 0, 'response_dist': Counter({'B': 126, 'A': 74})}\n",
      "\n",
      "\n",
      "wealth_seeking--------\n"
     ]
    },
    {
     "name": "stderr",
     "output_type": "stream",
     "text": [
      "Processing wealth_seeking for layer 10 and multiplier 0.5: 100%|██████████| 200/200 [00:05<00:00, 33.46it/s]\n"
     ]
    },
    {
     "name": "stdout",
     "output_type": "stream",
     "text": [
      "{'total': 200, 'matches': 108, 'non_matches': 92, 'faulty': 0, 'response_dist': Counter({'B': 133, 'A': 67})}\n"
     ]
    },
    {
     "name": "stderr",
     "output_type": "stream",
     "text": [
      "Processing wealth_seeking for layer 15 and multiplier 0.5: 100%|██████████| 200/200 [00:05<00:00, 33.76it/s]\n"
     ]
    },
    {
     "name": "stdout",
     "output_type": "stream",
     "text": [
      "{'total': 200, 'matches': 107, 'non_matches': 93, 'faulty': 0, 'response_dist': Counter({'B': 134, 'A': 66})}\n",
      "\n",
      "\n",
      "sycophancy--------\n"
     ]
    },
    {
     "name": "stderr",
     "output_type": "stream",
     "text": [
      "Processing sycophancy for layer 10 and multiplier 0.5: 100%|██████████| 200/200 [00:05<00:00, 33.95it/s]\n"
     ]
    },
    {
     "name": "stdout",
     "output_type": "stream",
     "text": [
      "{'total': 200, 'matches': 121, 'non_matches': 79, 'faulty': 0, 'response_dist': Counter({'B': 125, 'A': 75})}\n"
     ]
    },
    {
     "name": "stderr",
     "output_type": "stream",
     "text": [
      "Processing sycophancy for layer 15 and multiplier 0.5: 100%|██████████| 200/200 [00:05<00:00, 33.97it/s]\n"
     ]
    },
    {
     "name": "stdout",
     "output_type": "stream",
     "text": [
      "{'total': 200, 'matches': 121, 'non_matches': 79, 'faulty': 0, 'response_dist': Counter({'B': 125, 'A': 75})}\n",
      "\n",
      "\n",
      "agreeableness--------\n"
     ]
    },
    {
     "name": "stderr",
     "output_type": "stream",
     "text": [
      "Processing agreeableness for layer 10 and multiplier 0.5: 100%|██████████| 200/200 [00:05<00:00, 34.26it/s]\n"
     ]
    },
    {
     "name": "stdout",
     "output_type": "stream",
     "text": [
      "{'total': 200, 'matches': 196, 'non_matches': 4, 'faulty': 0, 'response_dist': Counter({'Yes': 101, 'No': 99})}\n"
     ]
    },
    {
     "name": "stderr",
     "output_type": "stream",
     "text": [
      "Processing agreeableness for layer 15 and multiplier 0.5: 100%|██████████| 200/200 [00:05<00:00, 34.19it/s]\n"
     ]
    },
    {
     "name": "stdout",
     "output_type": "stream",
     "text": [
      "{'total': 200, 'matches': 194, 'non_matches': 6, 'faulty': 0, 'response_dist': Counter({'Yes': 103, 'No': 97})}\n",
      "\n",
      "\n",
      "anti_immigration--------\n"
     ]
    },
    {
     "name": "stderr",
     "output_type": "stream",
     "text": [
      "Processing anti_immigration for layer 10 and multiplier 0.5: 100%|██████████| 200/200 [00:05<00:00, 34.72it/s]\n"
     ]
    },
    {
     "name": "stdout",
     "output_type": "stream",
     "text": [
      "{'total': 200, 'matches': 45, 'non_matches': 155, 'faulty': 0, 'response_dist': Counter({'No': 144, 'Yes': 56})}\n"
     ]
    },
    {
     "name": "stderr",
     "output_type": "stream",
     "text": [
      "Processing anti_immigration for layer 15 and multiplier 0.5: 100%|██████████| 200/200 [00:05<00:00, 34.66it/s]"
     ]
    },
    {
     "name": "stdout",
     "output_type": "stream",
     "text": [
      "{'total': 200, 'matches': 63, 'non_matches': 137, 'faulty': 0, 'response_dist': Counter({'No': 162, 'Yes': 38})}\n"
     ]
    },
    {
     "name": "stderr",
     "output_type": "stream",
     "text": [
      "\n"
     ]
    }
   ],
   "source": [
    "# include 29 specifically because this is what Nina found\n",
    "layers_to_test = [10, 15]\n",
    "# layers_to_test = list(range(32))\n",
    "multipliers = [0.5]\n",
    "# layers_to_test = [0, 5, 10, 15, 20, 25, 29, 31]\n",
    "# # layers_to_test = list(range(32))\n",
    "# multipliers = [1, 2, 3, 5, 10, 20, 30, 40, 60, 80, 120, 200, 300]\n",
    "results = {} #NOTE: still remove this for a full run! \n",
    "results[\"meta\"] = {\n",
    "    \"layers_tested\": layers_to_test,\n",
    "    \"multipliers\": multipliers,\n",
    "    \"note\": \"small test with positive steering\",\n",
    "}\n",
    "\n",
    "for name, data in datasets.items():\n",
    "    print(f\"\\n\\n{name}--------\")\n",
    "    acts = activations_dict[name]\n",
    "    results[name] = {} #NOTE: still remove this for a full run! \n",
    "    for layer in layers_to_test:\n",
    "        results[name][f\"layer_{layer}\"] = {}\n",
    "        # to create unit vec:\n",
    "        # unit_vec = (acts[layer] / torch.norm(acts[layer], p=2)).to(torch.half)/\n",
    "        vec = acts[layer].to(torch.half)\n",
    "        for m in multipliers:\n",
    "            results[name][f\"layer_{layer}\"][f\"multiplier_{m}\"] = {}\n",
    "            matches, total, faulty = 0, 0, 0\n",
    "            responses = []\n",
    "            model.reset_all()\n",
    "            model.set_add_activations(layer, m*vec)\n",
    "    \n",
    "            # validation set of 200 \n",
    "            for row in tqdm(data[500:700], desc=f\"Processing {name} for layer {layer} and multiplier {m}\"):\n",
    "                total += 1\n",
    "                q = row['question']\n",
    "                seq = model.tokenizer(q, return_tensors=\"pt\")['input_ids']\n",
    "                # print(seq.shape)\n",
    "                # print(q)\n",
    "                response = model.generate_text(q, do_sample=False, max_length=seq.shape[1]+1).split(\"(\")[-1]\n",
    "                responses.append(response)\n",
    "                # print(response, \"\\n----------\")\n",
    "            \n",
    "                if name in (\"agreeableness\", \"anti_immigration\"):\n",
    "                    correct_responses = (\"Yes\", \"No\")\n",
    "                else:\n",
    "                    correct_responses = (\"A\", \"B\")\n",
    "                    \n",
    "                if response not in correct_responses:\n",
    "                    faulty += 1\n",
    "                    # print(f\"FAULTY: {response}\")\n",
    "                    continue\n",
    "            \n",
    "                matches += response == row[\"answer_matching_behavior\"]\n",
    "\n",
    "            results_dist = Counter(responses)\n",
    "            results[name][f\"layer_{layer}\"][f\"multiplier_{m}\"] = {\n",
    "                \"total\": total,\n",
    "                \"matches\": matches,\n",
    "                \"non_matches\": total-matches-faulty,\n",
    "                \"faulty\": faulty,\n",
    "                \"responses\": responses,\n",
    "                \"response_dist\": results_dist,\n",
    "            }\n",
    "            print({\"total\": total,\n",
    "                \"matches\": matches,\n",
    "                \"non_matches\": total-matches-faulty,\n",
    "                \"faulty\": faulty,\n",
    "                \"response_dist\": results_dist,\n",
    "                  })\n",
    "\n",
    "            # if all answers are the same: only 'Yes', for example\n",
    "            if any([val > 0.95*total for val in results_dist.values()]):\n",
    "                print(f\"\\n\\nMODE COLLAPSE: stopped at layer {layer} with multiplier {m}\")\n",
    "                break\n",
    "            # answers becoming to much gibberish, then stop \n",
    "            if faulty > 10:\n",
    "                print(f\"\\n\\nFAULTY: stopped at layer {layer} with multiplier {m}\")\n",
    "                break\n",
    "\n",
    "# print(f\"Total: {total}\")\n",
    "# print(f\"matches: {matches}\")\n",
    "# print(f\"faulty: {faulty}\")"
   ]
  },
  {
   "cell_type": "code",
   "execution_count": null,
   "metadata": {},
   "outputs": [],
   "source": []
  },
  {
   "cell_type": "code",
   "execution_count": 13,
   "metadata": {},
   "outputs": [],
   "source": [
    "import json\n",
    "\n",
    "results[\"meta\"][\"note\"] = \"negative steering\"\n",
    "\n",
    "with open('multiple_steering_results__negative_ic_v1.5.json', 'w') as fp:\n",
    "    json.dump(results, fp, indent=2)"
   ]
  },
  {
   "cell_type": "markdown",
   "metadata": {},
   "source": [
    "## Get steering results for individual concepts"
   ]
  },
  {
   "cell_type": "code",
   "execution_count": 11,
   "metadata": {},
   "outputs": [],
   "source": [
    "# the multipliers to test for layers 10 and 15 based on the grid search. \n",
    "multipliers = {\n",
    "    \"agreeableness\":    {\"layer_10\": [0, -3, 0.5], \"layer_15\": [0, -1, 0.5]},\n",
    "    \"anti_immigration\": {\"layer_10\": [0, -1, 3], \"layer_15\": [0, -0.5, 1]},\n",
    "    \"myopic\":           {\"layer_10\": [0, -1, 10], \"layer_15\": [0, -1, 2]},\n",
    "    \"sycophancy\":       {\"layer_10\": [0, -20, 1], \"layer_15\": [0, -5, 2]}, # nothing really works here for layer 10 and 15\n",
    "    \"wealth_seeking\":   {\"layer_10\": [0, -2, 1], \"layer_15\": [0, -2, 1]}, \n",
    "    \n",
    "}"
   ]
  },
  {
   "cell_type": "code",
   "execution_count": 23,
   "metadata": {},
   "outputs": [
    {
     "name": "stderr",
     "output_type": "stream",
     "text": [
      "Processing myopic prompts: 100%|██████████| 300/300 [00:08<00:00, 33.38it/s]\n"
     ]
    },
    {
     "name": "stdout",
     "output_type": "stream",
     "text": [
      "\n",
      "\n",
      "myopic-------\n",
      "Total: 300\n",
      "matches: 85\n",
      "faulty: 0\n"
     ]
    },
    {
     "name": "stderr",
     "output_type": "stream",
     "text": [
      "Processing myopic prompts: 100%|██████████| 300/300 [00:08<00:00, 33.73it/s]\n"
     ]
    },
    {
     "name": "stdout",
     "output_type": "stream",
     "text": [
      "\n",
      "\n",
      "myopic-------\n",
      "Total: 300\n",
      "matches: 75\n",
      "faulty: 0\n"
     ]
    },
    {
     "name": "stderr",
     "output_type": "stream",
     "text": [
      "Processing myopic prompts: 100%|██████████| 300/300 [00:08<00:00, 33.48it/s]\n"
     ]
    },
    {
     "name": "stdout",
     "output_type": "stream",
     "text": [
      "\n",
      "\n",
      "myopic-------\n",
      "Total: 300\n",
      "matches: 153\n",
      "faulty: 0\n"
     ]
    },
    {
     "name": "stderr",
     "output_type": "stream",
     "text": [
      "Processing wealth_seeking prompts: 100%|██████████| 285/285 [00:08<00:00, 33.87it/s]\n"
     ]
    },
    {
     "name": "stdout",
     "output_type": "stream",
     "text": [
      "\n",
      "\n",
      "wealth_seeking-------\n",
      "Total: 285\n",
      "matches: 141\n",
      "faulty: 0\n"
     ]
    },
    {
     "name": "stderr",
     "output_type": "stream",
     "text": [
      "Processing wealth_seeking prompts: 100%|██████████| 285/285 [00:08<00:00, 33.97it/s]\n"
     ]
    },
    {
     "name": "stdout",
     "output_type": "stream",
     "text": [
      "\n",
      "\n",
      "wealth_seeking-------\n",
      "Total: 285\n",
      "matches: 65\n",
      "faulty: 0\n"
     ]
    },
    {
     "name": "stderr",
     "output_type": "stream",
     "text": [
      "Processing wealth_seeking prompts: 100%|██████████| 285/285 [00:08<00:00, 33.99it/s]\n"
     ]
    },
    {
     "name": "stdout",
     "output_type": "stream",
     "text": [
      "\n",
      "\n",
      "wealth_seeking-------\n",
      "Total: 285\n",
      "matches: 177\n",
      "faulty: 0\n"
     ]
    },
    {
     "name": "stderr",
     "output_type": "stream",
     "text": [
      "Processing sycophancy prompts: 100%|██████████| 300/300 [00:08<00:00, 33.96it/s]\n"
     ]
    },
    {
     "name": "stdout",
     "output_type": "stream",
     "text": [
      "\n",
      "\n",
      "sycophancy-------\n",
      "Total: 300\n",
      "matches: 175\n",
      "faulty: 0\n"
     ]
    },
    {
     "name": "stderr",
     "output_type": "stream",
     "text": [
      "Processing sycophancy prompts: 100%|██████████| 300/300 [00:08<00:00, 34.23it/s]\n"
     ]
    },
    {
     "name": "stdout",
     "output_type": "stream",
     "text": [
      "\n",
      "\n",
      "sycophancy-------\n",
      "Total: 300\n",
      "matches: 167\n",
      "faulty: 0\n"
     ]
    },
    {
     "name": "stderr",
     "output_type": "stream",
     "text": [
      "Processing sycophancy prompts: 100%|██████████| 300/300 [00:08<00:00, 34.23it/s]\n"
     ]
    },
    {
     "name": "stdout",
     "output_type": "stream",
     "text": [
      "\n",
      "\n",
      "sycophancy-------\n",
      "Total: 300\n",
      "matches: 178\n",
      "faulty: 0\n"
     ]
    },
    {
     "name": "stderr",
     "output_type": "stream",
     "text": [
      "Processing agreeableness prompts: 100%|██████████| 300/300 [00:08<00:00, 34.57it/s]\n"
     ]
    },
    {
     "name": "stdout",
     "output_type": "stream",
     "text": [
      "\n",
      "\n",
      "agreeableness-------\n",
      "Total: 300\n",
      "matches: 277\n",
      "faulty: 0\n"
     ]
    },
    {
     "name": "stderr",
     "output_type": "stream",
     "text": [
      "Processing agreeableness prompts: 100%|██████████| 300/300 [00:08<00:00, 34.31it/s]\n"
     ]
    },
    {
     "name": "stdout",
     "output_type": "stream",
     "text": [
      "\n",
      "\n",
      "agreeableness-------\n",
      "Total: 300\n",
      "matches: 171\n",
      "faulty: 0\n"
     ]
    },
    {
     "name": "stderr",
     "output_type": "stream",
     "text": [
      "Processing agreeableness prompts: 100%|██████████| 300/300 [00:08<00:00, 34.62it/s]\n"
     ]
    },
    {
     "name": "stdout",
     "output_type": "stream",
     "text": [
      "\n",
      "\n",
      "agreeableness-------\n",
      "Total: 300\n",
      "matches: 294\n",
      "faulty: 0\n"
     ]
    },
    {
     "name": "stderr",
     "output_type": "stream",
     "text": [
      "Processing anti_immigration prompts: 100%|██████████| 300/300 [00:08<00:00, 34.71it/s]\n"
     ]
    },
    {
     "name": "stdout",
     "output_type": "stream",
     "text": [
      "\n",
      "\n",
      "anti_immigration-------\n",
      "Total: 300\n",
      "matches: 50\n",
      "faulty: 0\n"
     ]
    },
    {
     "name": "stderr",
     "output_type": "stream",
     "text": [
      "Processing anti_immigration prompts: 100%|██████████| 300/300 [00:08<00:00, 34.87it/s]\n"
     ]
    },
    {
     "name": "stdout",
     "output_type": "stream",
     "text": [
      "\n",
      "\n",
      "anti_immigration-------\n",
      "Total: 300\n",
      "matches: 15\n",
      "faulty: 0\n"
     ]
    },
    {
     "name": "stderr",
     "output_type": "stream",
     "text": [
      "Processing anti_immigration prompts: 100%|██████████| 300/300 [00:08<00:00, 34.86it/s]\n"
     ]
    },
    {
     "name": "stdout",
     "output_type": "stream",
     "text": [
      "\n",
      "\n",
      "anti_immigration-------\n",
      "Total: 300\n",
      "matches: 162\n",
      "faulty: 0\n"
     ]
    },
    {
     "name": "stderr",
     "output_type": "stream",
     "text": [
      "Processing myopic prompts: 100%|██████████| 300/300 [00:08<00:00, 33.81it/s]\n"
     ]
    },
    {
     "name": "stdout",
     "output_type": "stream",
     "text": [
      "\n",
      "\n",
      "myopic-------\n",
      "Total: 300\n",
      "matches: 85\n",
      "faulty: 0\n"
     ]
    },
    {
     "name": "stderr",
     "output_type": "stream",
     "text": [
      "Processing myopic prompts: 100%|██████████| 300/300 [00:09<00:00, 33.28it/s]\n"
     ]
    },
    {
     "name": "stdout",
     "output_type": "stream",
     "text": [
      "\n",
      "\n",
      "myopic-------\n",
      "Total: 300\n",
      "matches: 52\n",
      "faulty: 0\n"
     ]
    },
    {
     "name": "stderr",
     "output_type": "stream",
     "text": [
      "Processing myopic prompts: 100%|██████████| 300/300 [00:08<00:00, 33.46it/s]\n"
     ]
    },
    {
     "name": "stdout",
     "output_type": "stream",
     "text": [
      "\n",
      "\n",
      "myopic-------\n",
      "Total: 300\n",
      "matches: 259\n",
      "faulty: 0\n"
     ]
    },
    {
     "name": "stderr",
     "output_type": "stream",
     "text": [
      "Processing wealth_seeking prompts: 100%|██████████| 285/285 [00:08<00:00, 33.97it/s]\n"
     ]
    },
    {
     "name": "stdout",
     "output_type": "stream",
     "text": [
      "\n",
      "\n",
      "wealth_seeking-------\n",
      "Total: 285\n",
      "matches: 141\n",
      "faulty: 0\n"
     ]
    },
    {
     "name": "stderr",
     "output_type": "stream",
     "text": [
      "Processing wealth_seeking prompts: 100%|██████████| 285/285 [00:08<00:00, 34.05it/s]\n"
     ]
    },
    {
     "name": "stdout",
     "output_type": "stream",
     "text": [
      "\n",
      "\n",
      "wealth_seeking-------\n",
      "Total: 285\n",
      "matches: 104\n",
      "faulty: 0\n"
     ]
    },
    {
     "name": "stderr",
     "output_type": "stream",
     "text": [
      "Processing wealth_seeking prompts: 100%|██████████| 285/285 [00:08<00:00, 34.06it/s]\n"
     ]
    },
    {
     "name": "stdout",
     "output_type": "stream",
     "text": [
      "\n",
      "\n",
      "wealth_seeking-------\n",
      "Total: 285\n",
      "matches: 160\n",
      "faulty: 0\n"
     ]
    },
    {
     "name": "stderr",
     "output_type": "stream",
     "text": [
      "Processing sycophancy prompts: 100%|██████████| 300/300 [00:08<00:00, 34.21it/s]\n"
     ]
    },
    {
     "name": "stdout",
     "output_type": "stream",
     "text": [
      "\n",
      "\n",
      "sycophancy-------\n",
      "Total: 300\n",
      "matches: 175\n",
      "faulty: 0\n"
     ]
    },
    {
     "name": "stderr",
     "output_type": "stream",
     "text": [
      "Processing sycophancy prompts: 100%|██████████| 300/300 [00:08<00:00, 34.22it/s]\n"
     ]
    },
    {
     "name": "stdout",
     "output_type": "stream",
     "text": [
      "\n",
      "\n",
      "sycophancy-------\n",
      "Total: 300\n",
      "matches: 177\n",
      "faulty: 0\n"
     ]
    },
    {
     "name": "stderr",
     "output_type": "stream",
     "text": [
      "Processing sycophancy prompts: 100%|██████████| 300/300 [00:08<00:00, 34.12it/s]\n"
     ]
    },
    {
     "name": "stdout",
     "output_type": "stream",
     "text": [
      "\n",
      "\n",
      "sycophancy-------\n",
      "Total: 300\n",
      "matches: 175\n",
      "faulty: 0\n"
     ]
    },
    {
     "name": "stderr",
     "output_type": "stream",
     "text": [
      "Processing agreeableness prompts: 100%|██████████| 300/300 [00:08<00:00, 34.53it/s]\n"
     ]
    },
    {
     "name": "stdout",
     "output_type": "stream",
     "text": [
      "\n",
      "\n",
      "agreeableness-------\n",
      "Total: 300\n",
      "matches: 277\n",
      "faulty: 0\n"
     ]
    },
    {
     "name": "stderr",
     "output_type": "stream",
     "text": [
      "Processing agreeableness prompts: 100%|██████████| 300/300 [00:08<00:00, 34.61it/s]\n"
     ]
    },
    {
     "name": "stdout",
     "output_type": "stream",
     "text": [
      "\n",
      "\n",
      "agreeableness-------\n",
      "Total: 300\n",
      "matches: 186\n",
      "faulty: 0\n"
     ]
    },
    {
     "name": "stderr",
     "output_type": "stream",
     "text": [
      "Processing agreeableness prompts: 100%|██████████| 300/300 [00:08<00:00, 34.68it/s]\n"
     ]
    },
    {
     "name": "stdout",
     "output_type": "stream",
     "text": [
      "\n",
      "\n",
      "agreeableness-------\n",
      "Total: 300\n",
      "matches: 291\n",
      "faulty: 0\n"
     ]
    },
    {
     "name": "stderr",
     "output_type": "stream",
     "text": [
      "Processing anti_immigration prompts: 100%|██████████| 300/300 [00:08<00:00, 34.70it/s]\n"
     ]
    },
    {
     "name": "stdout",
     "output_type": "stream",
     "text": [
      "\n",
      "\n",
      "anti_immigration-------\n",
      "Total: 300\n",
      "matches: 50\n",
      "faulty: 0\n"
     ]
    },
    {
     "name": "stderr",
     "output_type": "stream",
     "text": [
      "Processing anti_immigration prompts: 100%|██████████| 300/300 [00:08<00:00, 34.79it/s]\n"
     ]
    },
    {
     "name": "stdout",
     "output_type": "stream",
     "text": [
      "\n",
      "\n",
      "anti_immigration-------\n",
      "Total: 300\n",
      "matches: 14\n",
      "faulty: 0\n"
     ]
    },
    {
     "name": "stderr",
     "output_type": "stream",
     "text": [
      "Processing anti_immigration prompts: 100%|██████████| 300/300 [00:08<00:00, 34.61it/s]"
     ]
    },
    {
     "name": "stdout",
     "output_type": "stream",
     "text": [
      "\n",
      "\n",
      "anti_immigration-------\n",
      "Total: 300\n",
      "matches: 112\n",
      "faulty: 0\n"
     ]
    },
    {
     "name": "stderr",
     "output_type": "stream",
     "text": [
      "\n"
     ]
    }
   ],
   "source": [
    "individual_results = {}\n",
    "\n",
    "for layer in [10, 15]:\n",
    "    individual_results[f\"layer_{layer}\"] = {}\n",
    "    for name, data in datasets.items():\n",
    "        acts = activations_dict[name]\n",
    "        vec = acts[layer].to(torch.half)\n",
    "        \n",
    "        individual_results[f\"layer_{layer}\"][name] = {}\n",
    "        for m in multipliers[name][f\"layer_{layer}\"]:\n",
    "            model.reset_all()\n",
    "            model.set_add_activations(layer, m*vec)\n",
    "            matches, total, faulty = 0, 0, 0\n",
    "            responses = []\n",
    "        \n",
    "            for row in tqdm(data[700:], desc=f\"Layer: {layer} Processing {name} prompts for m {m}\"):\n",
    "                total += 1\n",
    "                q = row[\"question\"]\n",
    "                seq = model.tokenizer(q, return_tensors=\"pt\")['input_ids']\n",
    "        \n",
    "                response = model.generate_text(q, do_sample=False, max_length=seq.shape[1]+1).split(\"(\")[-1]\n",
    "                responses.append(response)\n",
    "                # print(q)\n",
    "                # print(f\"---{response}---\")\n",
    "                # print(f\"---{row['answer_matching_behavior']}---\")\n",
    "                \n",
    "                if name in (\"agreeableness\", \"anti_immigration\"):\n",
    "                    correct_responses = (\"Yes\", \"No\")\n",
    "                else:\n",
    "                    correct_responses = (\"A\", \"B\")\n",
    "                    \n",
    "                if response not in correct_responses:\n",
    "                    faulty += 1\n",
    "                    print(f\"FAULTY: {response}\")\n",
    "                    continue\n",
    "        \n",
    "                matches += response == row[\"answer_matching_behavior\"]\n",
    "                # if total >5:\n",
    "                #     break\n",
    "                \n",
    "            individual_results[f\"layer_{layer}\"][name][f\"m_{m}\"] = {\n",
    "            \"total\": total,\n",
    "            \"matches\": matches,\n",
    "            \"faulty\": faulty,\n",
    "            \"responses\": responses,\n",
    "            }\n",
    "            print(f\"\\n\\n{name}-------\")\n",
    "            print(f\"Total: {total}\")\n",
    "            print(f\"matches: {matches}\")\n",
    "            print(f\"faulty: {faulty}\")\n",
    "    # break"
   ]
  },
  {
   "cell_type": "code",
   "execution_count": 26,
   "metadata": {},
   "outputs": [],
   "source": [
    "individual_results[\"meta\"] = {\n",
    "    \"note\": \"steering for individual concepts\",\n",
    "    \"ics\": multipliers,\n",
    "}\n",
    "\n",
    "with open('multiple_steering_results_on_test_v1.0.json', 'w') as fp:\n",
    "    json.dump(individual_results, fp, indent=2)"
   ]
  },
  {
   "cell_type": "markdown",
   "metadata": {},
   "source": [
    "## Combined steering\n",
    "\n",
    "Steps to do: \n",
    "\n",
    "get activation list of normal mean, weighted neg mean, weighted pos mean\n",
    "\n",
    "calculate scores for all "
   ]
  },
  {
   "cell_type": "code",
   "execution_count": 17,
   "metadata": {},
   "outputs": [],
   "source": [
    "combined_acts = {}\n",
    "for layer in [10, 15]:\n",
    "    layer_str = f\"layer_{layer}\"\n",
    "    combined_acts[layer_str] = {\n",
    "        \"avg_acts\": [], \n",
    "        \"neg_weighted_acts\": [],\n",
    "        \"pos_weighted_acts\": [],\n",
    "    }\n",
    "    for name, activations in activations_dict.items():\n",
    "        combined_acts[layer_str][\"avg_acts\"].append(activations)\n",
    "\n",
    "        neg_multiplier = multipliers[name][layer_str][1]\n",
    "        combined_acts[layer_str][\"neg_weighted_acts\"].append(activations*neg_multiplier)\n",
    "        \n",
    "        pos_multiplier = multipliers[name][layer_str][2]\n",
    "        combined_acts[layer_str][\"pos_weighted_acts\"].append(activations*pos_multiplier)\n",
    "\n",
    "    for name, activations in combined_acts[layer_str].items():\n",
    "        combined_acts[layer_str][name] = einops.reduce(\n",
    "            activations, \n",
    "            \"names layers hidden_dim -> layers hidden_dim\", \n",
    "            \"mean\"\n",
    "        )"
   ]
  },
  {
   "cell_type": "code",
   "execution_count": 20,
   "metadata": {},
   "outputs": [
    {
     "name": "stdout",
     "output_type": "stream",
     "text": [
      "torch.Size([32, 4096])\n"
     ]
    }
   ],
   "source": [
    "for mode, activations in combined_acts[layer_str].items():\n",
    "    print(activations.shape)\n",
    "    break\n"
   ]
  },
  {
   "cell_type": "code",
   "execution_count": 23,
   "metadata": {},
   "outputs": [
    {
     "name": "stderr",
     "output_type": "stream",
     "text": [
      "Layer: 10 Mode: avg_acts Processing myopic prompts: 100%|██████████| 200/200 [00:06<00:00, 32.77it/s]\n"
     ]
    },
    {
     "name": "stdout",
     "output_type": "stream",
     "text": [
      "\n",
      "\n",
      "myopic-------\n",
      "Total: 200\n",
      "matches: 58\n",
      "faulty: 0\n"
     ]
    },
    {
     "name": "stderr",
     "output_type": "stream",
     "text": [
      "Layer: 10 Mode: avg_acts Processing wealth_seeking prompts: 100%|██████████| 200/200 [00:06<00:00, 33.19it/s]\n"
     ]
    },
    {
     "name": "stdout",
     "output_type": "stream",
     "text": [
      "\n",
      "\n",
      "wealth_seeking-------\n",
      "Total: 200\n",
      "matches: 102\n",
      "faulty: 0\n"
     ]
    },
    {
     "name": "stderr",
     "output_type": "stream",
     "text": [
      "Layer: 10 Mode: avg_acts Processing sycophancy prompts: 100%|██████████| 200/200 [00:05<00:00, 33.34it/s]\n"
     ]
    },
    {
     "name": "stdout",
     "output_type": "stream",
     "text": [
      "\n",
      "\n",
      "sycophancy-------\n",
      "Total: 200\n",
      "matches: 115\n",
      "faulty: 0\n"
     ]
    },
    {
     "name": "stderr",
     "output_type": "stream",
     "text": [
      "Layer: 10 Mode: avg_acts Processing agreeableness prompts: 100%|██████████| 200/200 [00:05<00:00, 33.84it/s]\n"
     ]
    },
    {
     "name": "stdout",
     "output_type": "stream",
     "text": [
      "\n",
      "\n",
      "agreeableness-------\n",
      "Total: 200\n",
      "matches: 193\n",
      "faulty: 0\n"
     ]
    },
    {
     "name": "stderr",
     "output_type": "stream",
     "text": [
      "Layer: 10 Mode: avg_acts Processing anti_immigration prompts: 100%|██████████| 200/200 [00:05<00:00, 34.29it/s]\n"
     ]
    },
    {
     "name": "stdout",
     "output_type": "stream",
     "text": [
      "\n",
      "\n",
      "anti_immigration-------\n",
      "Total: 200\n",
      "matches: 27\n",
      "faulty: 0\n"
     ]
    },
    {
     "name": "stderr",
     "output_type": "stream",
     "text": [
      "Layer: 10 Mode: neg_weighted_acts Processing myopic prompts: 100%|██████████| 200/200 [00:05<00:00, 33.34it/s]\n"
     ]
    },
    {
     "name": "stdout",
     "output_type": "stream",
     "text": [
      "\n",
      "\n",
      "myopic-------\n",
      "Total: 200\n",
      "matches: 65\n",
      "faulty: 0\n"
     ]
    },
    {
     "name": "stderr",
     "output_type": "stream",
     "text": [
      "Layer: 10 Mode: neg_weighted_acts Processing wealth_seeking prompts: 100%|██████████| 200/200 [00:05<00:00, 33.63it/s]\n"
     ]
    },
    {
     "name": "stdout",
     "output_type": "stream",
     "text": [
      "\n",
      "\n",
      "wealth_seeking-------\n",
      "Total: 200\n",
      "matches: 84\n",
      "faulty: 0\n"
     ]
    },
    {
     "name": "stderr",
     "output_type": "stream",
     "text": [
      "Layer: 10 Mode: neg_weighted_acts Processing sycophancy prompts: 100%|██████████| 200/200 [00:05<00:00, 33.83it/s]\n"
     ]
    },
    {
     "name": "stdout",
     "output_type": "stream",
     "text": [
      "\n",
      "\n",
      "sycophancy-------\n",
      "Total: 200\n",
      "matches: 128\n",
      "faulty: 0\n"
     ]
    },
    {
     "name": "stderr",
     "output_type": "stream",
     "text": [
      "Layer: 10 Mode: neg_weighted_acts Processing agreeableness prompts: 100%|██████████| 200/200 [00:05<00:00, 34.19it/s]\n"
     ]
    },
    {
     "name": "stdout",
     "output_type": "stream",
     "text": [
      "\n",
      "\n",
      "agreeableness-------\n",
      "Total: 200\n",
      "matches: 166\n",
      "faulty: 0\n"
     ]
    },
    {
     "name": "stderr",
     "output_type": "stream",
     "text": [
      "Layer: 10 Mode: neg_weighted_acts Processing anti_immigration prompts: 100%|██████████| 200/200 [00:05<00:00, 34.35it/s]\n"
     ]
    },
    {
     "name": "stdout",
     "output_type": "stream",
     "text": [
      "\n",
      "\n",
      "anti_immigration-------\n",
      "Total: 200\n",
      "matches: 54\n",
      "faulty: 0\n"
     ]
    },
    {
     "name": "stderr",
     "output_type": "stream",
     "text": [
      "Layer: 10 Mode: pos_weighted_acts Processing myopic prompts: 100%|██████████| 200/200 [00:06<00:00, 32.93it/s]\n"
     ]
    },
    {
     "name": "stdout",
     "output_type": "stream",
     "text": [
      "\n",
      "\n",
      "myopic-------\n",
      "Total: 200\n",
      "matches: 120\n",
      "faulty: 0\n"
     ]
    },
    {
     "name": "stderr",
     "output_type": "stream",
     "text": [
      "Layer: 10 Mode: pos_weighted_acts Processing wealth_seeking prompts: 100%|██████████| 200/200 [00:05<00:00, 33.64it/s]\n"
     ]
    },
    {
     "name": "stdout",
     "output_type": "stream",
     "text": [
      "\n",
      "\n",
      "wealth_seeking-------\n",
      "Total: 200\n",
      "matches: 97\n",
      "faulty: 0\n"
     ]
    },
    {
     "name": "stderr",
     "output_type": "stream",
     "text": [
      "Layer: 10 Mode: pos_weighted_acts Processing sycophancy prompts: 100%|██████████| 200/200 [00:05<00:00, 33.54it/s]\n"
     ]
    },
    {
     "name": "stdout",
     "output_type": "stream",
     "text": [
      "\n",
      "\n",
      "sycophancy-------\n",
      "Total: 200\n",
      "matches: 124\n",
      "faulty: 0\n"
     ]
    },
    {
     "name": "stderr",
     "output_type": "stream",
     "text": [
      "Layer: 10 Mode: pos_weighted_acts Processing agreeableness prompts: 100%|██████████| 200/200 [00:05<00:00, 33.74it/s]\n"
     ]
    },
    {
     "name": "stdout",
     "output_type": "stream",
     "text": [
      "\n",
      "\n",
      "agreeableness-------\n",
      "Total: 200\n",
      "matches: 195\n",
      "faulty: 0\n"
     ]
    },
    {
     "name": "stderr",
     "output_type": "stream",
     "text": [
      "Layer: 10 Mode: pos_weighted_acts Processing anti_immigration prompts: 100%|██████████| 200/200 [00:05<00:00, 34.44it/s]\n"
     ]
    },
    {
     "name": "stdout",
     "output_type": "stream",
     "text": [
      "\n",
      "\n",
      "anti_immigration-------\n",
      "Total: 200\n",
      "matches: 14\n",
      "faulty: 0\n"
     ]
    },
    {
     "name": "stderr",
     "output_type": "stream",
     "text": [
      "Layer: 15 Mode: avg_acts Processing myopic prompts: 100%|██████████| 200/200 [00:05<00:00, 33.42it/s]\n"
     ]
    },
    {
     "name": "stdout",
     "output_type": "stream",
     "text": [
      "\n",
      "\n",
      "myopic-------\n",
      "Total: 200\n",
      "matches: 65\n",
      "faulty: 0\n"
     ]
    },
    {
     "name": "stderr",
     "output_type": "stream",
     "text": [
      "Layer: 15 Mode: avg_acts Processing wealth_seeking prompts: 100%|██████████| 200/200 [00:05<00:00, 33.46it/s]\n"
     ]
    },
    {
     "name": "stdout",
     "output_type": "stream",
     "text": [
      "\n",
      "\n",
      "wealth_seeking-------\n",
      "Total: 200\n",
      "matches: 100\n",
      "faulty: 0\n"
     ]
    },
    {
     "name": "stderr",
     "output_type": "stream",
     "text": [
      "Layer: 15 Mode: avg_acts Processing sycophancy prompts: 100%|██████████| 200/200 [00:05<00:00, 33.77it/s]\n"
     ]
    },
    {
     "name": "stdout",
     "output_type": "stream",
     "text": [
      "\n",
      "\n",
      "sycophancy-------\n",
      "Total: 200\n",
      "matches: 123\n",
      "faulty: 0\n"
     ]
    },
    {
     "name": "stderr",
     "output_type": "stream",
     "text": [
      "Layer: 15 Mode: avg_acts Processing agreeableness prompts: 100%|██████████| 200/200 [00:05<00:00, 34.17it/s]\n"
     ]
    },
    {
     "name": "stdout",
     "output_type": "stream",
     "text": [
      "\n",
      "\n",
      "agreeableness-------\n",
      "Total: 200\n",
      "matches: 191\n",
      "faulty: 0\n"
     ]
    },
    {
     "name": "stderr",
     "output_type": "stream",
     "text": [
      "Layer: 15 Mode: avg_acts Processing anti_immigration prompts: 100%|██████████| 200/200 [00:05<00:00, 34.51it/s]\n"
     ]
    },
    {
     "name": "stdout",
     "output_type": "stream",
     "text": [
      "\n",
      "\n",
      "anti_immigration-------\n",
      "Total: 200\n",
      "matches: 31\n",
      "faulty: 0\n"
     ]
    },
    {
     "name": "stderr",
     "output_type": "stream",
     "text": [
      "Layer: 15 Mode: neg_weighted_acts Processing myopic prompts: 100%|██████████| 200/200 [00:05<00:00, 33.51it/s]\n"
     ]
    },
    {
     "name": "stdout",
     "output_type": "stream",
     "text": [
      "\n",
      "\n",
      "myopic-------\n",
      "Total: 200\n",
      "matches: 48\n",
      "faulty: 0\n"
     ]
    },
    {
     "name": "stderr",
     "output_type": "stream",
     "text": [
      "Layer: 15 Mode: neg_weighted_acts Processing wealth_seeking prompts: 100%|██████████| 200/200 [00:05<00:00, 33.68it/s]\n"
     ]
    },
    {
     "name": "stdout",
     "output_type": "stream",
     "text": [
      "\n",
      "\n",
      "wealth_seeking-------\n",
      "Total: 200\n",
      "matches: 94\n",
      "faulty: 0\n"
     ]
    },
    {
     "name": "stderr",
     "output_type": "stream",
     "text": [
      "Layer: 15 Mode: neg_weighted_acts Processing sycophancy prompts: 100%|██████████| 200/200 [00:05<00:00, 33.89it/s]\n"
     ]
    },
    {
     "name": "stdout",
     "output_type": "stream",
     "text": [
      "\n",
      "\n",
      "sycophancy-------\n",
      "Total: 200\n",
      "matches: 117\n",
      "faulty: 0\n"
     ]
    },
    {
     "name": "stderr",
     "output_type": "stream",
     "text": [
      "Layer: 15 Mode: neg_weighted_acts Processing agreeableness prompts: 100%|██████████| 200/200 [00:05<00:00, 34.22it/s]\n"
     ]
    },
    {
     "name": "stdout",
     "output_type": "stream",
     "text": [
      "\n",
      "\n",
      "agreeableness-------\n",
      "Total: 200\n",
      "matches: 192\n",
      "faulty: 0\n"
     ]
    },
    {
     "name": "stderr",
     "output_type": "stream",
     "text": [
      "Layer: 15 Mode: neg_weighted_acts Processing anti_immigration prompts: 100%|██████████| 200/200 [00:05<00:00, 34.54it/s]\n"
     ]
    },
    {
     "name": "stdout",
     "output_type": "stream",
     "text": [
      "\n",
      "\n",
      "anti_immigration-------\n",
      "Total: 200\n",
      "matches: 24\n",
      "faulty: 0\n"
     ]
    },
    {
     "name": "stderr",
     "output_type": "stream",
     "text": [
      "Layer: 15 Mode: pos_weighted_acts Processing myopic prompts: 100%|██████████| 200/200 [00:05<00:00, 33.42it/s]\n"
     ]
    },
    {
     "name": "stdout",
     "output_type": "stream",
     "text": [
      "\n",
      "\n",
      "myopic-------\n",
      "Total: 200\n",
      "matches: 81\n",
      "faulty: 0\n"
     ]
    },
    {
     "name": "stderr",
     "output_type": "stream",
     "text": [
      "Layer: 15 Mode: pos_weighted_acts Processing wealth_seeking prompts: 100%|██████████| 200/200 [00:05<00:00, 33.68it/s]\n"
     ]
    },
    {
     "name": "stdout",
     "output_type": "stream",
     "text": [
      "\n",
      "\n",
      "wealth_seeking-------\n",
      "Total: 200\n",
      "matches: 100\n",
      "faulty: 0\n"
     ]
    },
    {
     "name": "stderr",
     "output_type": "stream",
     "text": [
      "Layer: 15 Mode: pos_weighted_acts Processing sycophancy prompts: 100%|██████████| 200/200 [00:05<00:00, 33.86it/s]\n"
     ]
    },
    {
     "name": "stdout",
     "output_type": "stream",
     "text": [
      "\n",
      "\n",
      "sycophancy-------\n",
      "Total: 200\n",
      "matches: 130\n",
      "faulty: 0\n"
     ]
    },
    {
     "name": "stderr",
     "output_type": "stream",
     "text": [
      "Layer: 15 Mode: pos_weighted_acts Processing agreeableness prompts: 100%|██████████| 200/200 [00:05<00:00, 34.28it/s]\n"
     ]
    },
    {
     "name": "stdout",
     "output_type": "stream",
     "text": [
      "\n",
      "\n",
      "agreeableness-------\n",
      "Total: 200\n",
      "matches: 189\n",
      "faulty: 0\n"
     ]
    },
    {
     "name": "stderr",
     "output_type": "stream",
     "text": [
      "Layer: 15 Mode: pos_weighted_acts Processing anti_immigration prompts: 100%|██████████| 200/200 [00:05<00:00, 34.55it/s]"
     ]
    },
    {
     "name": "stdout",
     "output_type": "stream",
     "text": [
      "\n",
      "\n",
      "anti_immigration-------\n",
      "Total: 200\n",
      "matches: 28\n",
      "faulty: 0\n"
     ]
    },
    {
     "name": "stderr",
     "output_type": "stream",
     "text": [
      "\n"
     ]
    }
   ],
   "source": [
    "combined_results = {}\n",
    "for layer in [10, 15]:\n",
    "    layer_str = f\"layer_{layer}\"\n",
    "    combined_results[layer_str] = {}\n",
    "    for mode, activations in combined_acts[layer_str].items():  \n",
    "        vec = activations[layer].to(torch.half)\n",
    "        model.reset_all()\n",
    "        model.set_add_activations(layer, vec)\n",
    "        combined_results[f\"layer_{layer}\"][mode] = {}\n",
    "        for name, data in datasets.items():\n",
    "            matches, total, faulty = 0, 0, 0\n",
    "            responses = []\n",
    "            # 400:600: take a bit of the samples of activations and of the grid search\n",
    "            for row in tqdm(data[400:600], desc=f\"Layer: {layer} Mode: {mode} Processing {name} prompts\"):\n",
    "                total += 1\n",
    "                q = row[\"question\"]\n",
    "                seq = model.tokenizer(q, return_tensors=\"pt\")['input_ids']\n",
    "        \n",
    "                response = model.generate_text(q, do_sample=False, max_length=seq.shape[1]+1).split(\"(\")[-1]\n",
    "                responses.append(response)\n",
    "                # print(q)\n",
    "                # print(f\"---{response}---\")\n",
    "                # print(f\"---{row['answer_matching_behavior']}---\")\n",
    "                \n",
    "                if name in (\"agreeableness\", \"anti_immigration\"):\n",
    "                    correct_responses = (\"Yes\", \"No\")\n",
    "                else:\n",
    "                    correct_responses = (\"A\", \"B\")\n",
    "                    \n",
    "                if response not in correct_responses:\n",
    "                    faulty += 1\n",
    "                    print(f\"FAULTY: {response}\")\n",
    "                    continue\n",
    "        \n",
    "                matches += response == row[\"answer_matching_behavior\"]\n",
    "                # if total >5:\n",
    "                #     break\n",
    "                \n",
    "            combined_results[f\"layer_{layer}\"][mode][name] = {\n",
    "                \"total\": total,\n",
    "                \"matches\": matches,\n",
    "                \"faulty\": faulty,\n",
    "                \"responses\": responses,\n",
    "            }\n",
    "            print(f\"\\n\\n{name}-------\")\n",
    "            print(f\"Total: {total}\")\n",
    "            print(f\"matches: {matches}\")\n",
    "            print(f\"faulty: {faulty}\")\n",
    "    # break"
   ]
  },
  {
   "cell_type": "code",
   "execution_count": 24,
   "metadata": {},
   "outputs": [],
   "source": [
    "combined_results[\"meta\"] = {\n",
    "    \"note\": \"steering for combined concepts for samples [400:600]\",\n",
    "    \"ics\": multipliers,\n",
    "}\n",
    "\n",
    "with open('combined_steering_results_v1.0.json', 'w') as fp:\n",
    "    json.dump(combined_results, fp, indent=2)"
   ]
  }
 ],
 "metadata": {
  "kaggle": {
   "accelerator": "gpu",
   "dataSources": [],
   "dockerImageVersionId": 30559,
   "isGpuEnabled": true,
   "isInternetEnabled": true,
   "language": "python",
   "sourceType": "notebook"
  },
  "kernelspec": {
   "display_name": "Python 3 (ipykernel)",
   "language": "python",
   "name": "python3"
  },
  "language_info": {
   "codemirror_mode": {
    "name": "ipython",
    "version": 3
   },
   "file_extension": ".py",
   "mimetype": "text/x-python",
   "name": "python",
   "nbconvert_exporter": "python",
   "pygments_lexer": "ipython3",
   "version": "3.10.12"
  }
 },
 "nbformat": 4,
 "nbformat_minor": 4
}
